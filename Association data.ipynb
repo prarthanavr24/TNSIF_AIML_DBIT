{
 "cells": [
  {
   "cell_type": "code",
   "execution_count": 4,
   "id": "fcaaa35d",
   "metadata": {},
   "outputs": [
    {
     "name": "stdout",
     "output_type": "stream",
     "text": [
      "Transaction DataFrame:\n",
      "   Coffee  Donut  Muffin  Sandwitch\n",
      "0    True   True   False      False\n",
      "1    True  False   False       True\n",
      "2    True  False    True      False\n",
      "3   False   True    True      False\n",
      "\n",
      "Frequent Itemsets:\n",
      "   support  itemsets\n",
      "0     0.75  (Coffee)\n",
      "1     0.50   (Donut)\n",
      "2     0.50  (Muffin)\n",
      "\n",
      "Association Rules:\n",
      "Empty DataFrame\n",
      "Columns: [antecedents, consequents, support, confidence, lift]\n",
      "Index: []\n"
     ]
    }
   ],
   "source": [
    "from mlxtend.preprocessing import TransactionEncoder\n",
    "from mlxtend.frequent_patterns import apriori, association_rules\n",
    "import pandas as pd\n",
    "\n",
    "dataset = [\n",
    "['Coffee','Donut'],\n",
    "['Coffee','Sandwitch'],\n",
    "['Coffee','Muffin'],\n",
    "['Donut','Muffin']\n",
    "]\n",
    "\n",
    "te = TransactionEncoder()\n",
    "te_ary = te.fit(dataset).transform(dataset)\n",
    "df = pd.DataFrame(te_ary, columns=te.columns_)\n",
    "\n",
    "print(\"Transaction DataFrame:\")\n",
    "print(df)\n",
    "\n",
    "frequent_itemsets = apriori(df, min_support=0.4, use_colnames=True)\n",
    "print(\"\\nFrequent Itemsets:\")\n",
    "print(frequent_itemsets)\n",
    "\n",
    "rules = association_rules(frequent_itemsets, metric=\"confidence\",min_threshold=0.6)\n",
    "\n",
    "print(\"\\nAssociation Rules:\")\n",
    "print(rules[['antecedents','consequents','support','confidence','lift']])\n"
   ]
  },
  {
   "cell_type": "code",
   "execution_count": null,
   "id": "a02df942",
   "metadata": {},
   "outputs": [],
   "source": []
  },
  {
   "cell_type": "code",
   "execution_count": null,
   "id": "8362a286",
   "metadata": {},
   "outputs": [],
   "source": []
  }
 ],
 "metadata": {
  "kernelspec": {
   "display_name": "Python 3 (ipykernel)",
   "language": "python",
   "name": "python3"
  },
  "language_info": {
   "codemirror_mode": {
    "name": "ipython",
    "version": 3
   },
   "file_extension": ".py",
   "mimetype": "text/x-python",
   "name": "python",
   "nbconvert_exporter": "python",
   "pygments_lexer": "ipython3",
   "version": "3.9.13"
  }
 },
 "nbformat": 4,
 "nbformat_minor": 5
}
