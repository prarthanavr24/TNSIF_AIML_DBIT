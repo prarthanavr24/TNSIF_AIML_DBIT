{
 "cells": [
  {
   "cell_type": "code",
   "execution_count": 4,
   "id": "bf4a5a10-ac93-4231-87d7-2f4570607ec9",
   "metadata": {},
   "outputs": [
    {
     "name": "stdin",
     "output_type": "stream",
     "text": [
      "Enter a number:  100\n",
      "Enter a number:  30\n",
      "Enter a number:  200\n"
     ]
    },
    {
     "name": "stdout",
     "output_type": "stream",
     "text": [
      "Sum exceeded 300 Terminate it..... \n",
      "Final total: 130\n"
     ]
    }
   ],
   "source": [
    "#   Day-2 (31-7-25)\n",
    "# to print the total sum . where the total should bee less than or equal to 300 , if it exceeds 300 terminate ,\n",
    "#  n number of inputs can be taken \n",
    "#  where the total should bee less than or equal to 300 \n",
    "\n",
    "total = 0\n",
    "\n",
    "while True:\n",
    "    try:\n",
    "        num = int(input(\"Enter a number: \"))\n",
    "        if total + num > 300:\n",
    "            print(\"Sum exceeded 300 Terminate it..... \")\n",
    "            break\n",
    "        total += num\n",
    "    except ValueError:\n",
    "        print(\"Please enter a valid number \")\n",
    "\n",
    "print(\"Final total:\", total)\n"
   ]
  },
  {
   "cell_type": "code",
   "execution_count": 2,
   "id": "03c6366c-15fb-4db4-ac35-35e6620b09bc",
   "metadata": {},
   "outputs": [
    {
     "name": "stdin",
     "output_type": "stream",
     "text": [
      "Enter a string:  bass\n",
      "Enter a string:  born\n",
      "Enter a string:  bon\n",
      "Enter a string:  Bon\n"
     ]
    },
    {
     "name": "stdout",
     "output_type": "stream",
     "text": [
      "Voyage\n"
     ]
    }
   ],
   "source": [
    "# Write a program that keeps accepting strings until ‘Bon’ is entered. The program should display ‘Voyage’ and quit execution\n",
    "while True:\n",
    "    userinput = input(\"Enter a string: \")\n",
    "    if userinput == \"Bon\":\n",
    "        print(\"Voyage\")\n",
    "        break"
   ]
  },
  {
   "cell_type": "code",
   "execution_count": 6,
   "id": "6e62ea1b-3ff9-4540-a944-3dc0dab859af",
   "metadata": {},
   "outputs": [
    {
     "name": "stdin",
     "output_type": "stream",
     "text": [
      "Enter address:  door no 30 , 5th street\n"
     ]
    },
    {
     "name": "stdout",
     "output_type": "stream",
     "text": [
      "3\n",
      "0\n",
      "5\n"
     ]
    }
   ],
   "source": [
    "# Write a program that accepts the door number and street of the user and displays only the numbers present in the string.\n",
    "address = input(\"Enter address: \")\n",
    "\n",
    "for i in address:\n",
    "    if i.isdigit():\n",
    "        print(i)\n"
   ]
  },
  {
   "cell_type": "code",
   "execution_count": 8,
   "id": "0db7ffb9-de61-4c43-99dd-6ad4c576b3fd",
   "metadata": {},
   "outputs": [
    {
     "name": "stdin",
     "output_type": "stream",
     "text": [
      "Enter element :  1\n",
      "Enter element :  2\n",
      "Enter element :  4\n",
      "Enter element :  5\n",
      "Enter element :  3\n",
      "Enter name:  abc\n"
     ]
    },
    {
     "name": "stdout",
     "output_type": "stream",
     "text": [
      "elements in the list: ['1', '2', 'abc', '5', 'abc']\n"
     ]
    }
   ],
   "source": [
    "# Accept a list from the user with 5 elements. \n",
    "# Accept name of user and replace the third and fifth elements of the list with the user’s name.\n",
    "\n",
    "my_list = []\n",
    "for i in range(5):\n",
    "    element = input(f\"Enter element : \")\n",
    "    my_list.append(element)\n",
    "    \n",
    "name = input(\"Enter name: \")\n",
    "my_list[2] = name\n",
    "my_list[4] = name\n",
    "print(\"elements in the list:\", my_list)\n"
   ]
  },
  {
   "cell_type": "code",
   "execution_count": 10,
   "id": "eb7d1425-2510-4e7b-9cd5-1539a4700ba8",
   "metadata": {},
   "outputs": [
    {
     "name": "stdin",
     "output_type": "stream",
     "text": [
      "How many elements in the list:   1\n",
      "Enter element:  2\n",
      "Enter index:  3\n",
      "Enter element to insert:  3\n"
     ]
    },
    {
     "name": "stdout",
     "output_type": "stream",
     "text": [
      "['2', '3']\n"
     ]
    }
   ],
   "source": [
    "# Write a program that accepts a list from the user and two other inputs: The index where a new element has to be inserted and the element itself. \n",
    "#The program should check if the index value given by the user is valid. If  it is not, \n",
    "#then a message should state that the new element will be appended\n",
    "\n",
    "n = int(input(\"How many elements in the list:  \"))\n",
    "list1 = []\n",
    "for _ in range(n):\n",
    "    list1.append(input(\"Enter element: \"))\n",
    "\n",
    "i = int(input(\"Enter index: \"))\n",
    "element = input(\"Enter element to insert: \")\n",
    "\n",
    "if 0 <= i <= len(list1):\n",
    "    list1.insert(i, element)\n",
    "else:\n",
    "    list1.append(element)\n",
    "\n",
    "print(list1)"
   ]
  },
  {
   "cell_type": "code",
   "execution_count": null,
   "id": "b6eee831-d2e5-4082-8388-c87be5ac1ca0",
   "metadata": {},
   "outputs": [],
   "source": []
  }
 ],
 "metadata": {
  "kernelspec": {
   "display_name": "Python [conda env:base] *",
   "language": "python",
   "name": "conda-base-py"
  },
  "language_info": {
   "codemirror_mode": {
    "name": "ipython",
    "version": 3
   },
   "file_extension": ".py",
   "mimetype": "text/x-python",
   "name": "python",
   "nbconvert_exporter": "python",
   "pygments_lexer": "ipython3",
   "version": "3.12.7"
  }
 },
 "nbformat": 4,
 "nbformat_minor": 5
}
