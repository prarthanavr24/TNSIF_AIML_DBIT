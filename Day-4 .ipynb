{
 "cells": [
  {
   "cell_type": "code",
   "execution_count": 6,
   "id": "ccef0823-dfde-4522-9ee5-4da07a61857e",
   "metadata": {},
   "outputs": [
    {
     "name": "stdout",
     "output_type": "stream",
     "text": [
      "{'Harry': 9764543678, 'Seema': 8975231456, 'Ria': 7867523145, 'Thomas': 9825316377}\n"
     ]
    },
    {
     "name": "stdin",
     "output_type": "stream",
     "text": [
      "Enter the name whose number to be modified Thomas\n",
      "Enter the new number 6328963567\n"
     ]
    },
    {
     "name": "stdout",
     "output_type": "stream",
     "text": [
      "Modified successfully\n",
      "{'Harry': 9764543678, 'Seema': 8975231456, 'Ria': 7867523145, 'Thomas': '6328963567'}\n"
     ]
    }
   ],
   "source": [
    "# Day-4 (4-8-25)\n",
    "# update existing phone no in the dictionary\n",
    "phonebook={\"Harry\":9764543678,\"Seema\":8975231456,\"Ria\":7867523145,\"Thomas\":9825316377}\n",
    "print(phonebook)\n",
    "\n",
    "name = input(\"Enter the name whose number to be modified\")\n",
    "if name in phonebook:\n",
    "    newnumb = input(\"Enter the new number\")\n",
    "    phonebook[name] = newnumb\n",
    "    print(\"Modified successfully\")\n",
    "    print(phonebook)\n",
    "else:\n",
    "    print(name, \"was not found.\")"
   ]
  },
  {
   "cell_type": "code",
   "execution_count": 13,
   "id": "e7fe7a56-13eb-4bc9-a9a3-279201c33976",
   "metadata": {},
   "outputs": [
    {
     "name": "stdout",
     "output_type": "stream",
     "text": [
      "{'Harry': 8796543908, 'Sima': 9888765490, 'Rita': 6779765312}\n",
      "{'Harry': 9807646889, 'Sima': 9888765490, 'Rita': 6779765312}\n",
      "{'Harry': 9807646889, 'Sima': 9888765490, 'Rita': 6779765312, 'Amir': 8976543210}\n"
     ]
    }
   ],
   "source": [
    "# adding new name and phone no in the dictionary\n",
    "#Add Amir and his nuumber..Key value pair to be added\n",
    "\n",
    "phonebook={\"Harry\":8796543908,\"Sima\":9888765490,\"Rita\":6779765312}\n",
    "print(phonebook)\n",
    "phonebook[\"Harry\"]=9807646889\n",
    "print(phonebook)\n",
    "phonebook.update({\"Amir\":8976543210})\n",
    "print(phonebook)"
   ]
  },
  {
   "cell_type": "code",
   "execution_count": 10,
   "id": "45f35da0-2c62-4c0f-8384-7cb1ada255d6",
   "metadata": {},
   "outputs": [
    {
     "name": "stdout",
     "output_type": "stream",
     "text": [
      "{'Harry': 9764543678, 'Seema': 8975231456, 'Ria': 7867523145, 'Thomas': 9825316377}\n"
     ]
    },
    {
     "name": "stdin",
     "output_type": "stream",
     "text": [
      "enter the name to delete: Ria\n"
     ]
    },
    {
     "name": "stdout",
     "output_type": "stream",
     "text": [
      "delete successfully\n",
      "{'Harry': 9764543678, 'Seema': 8975231456, 'Thomas': 9825316377}\n"
     ]
    }
   ],
   "source": [
    "# deleting existing phone no in the dictionary\n",
    "phonebook={\"Harry\":9764543678,\"Seema\":8975231456,\"Ria\":7867523145,\"Thomas\":9825316377}\n",
    "print(phonebook)\n",
    "\n",
    "name = input(\"enter the name to delete:\")\n",
    "if name in phonebook:\n",
    "    del phonebook[name]\n",
    "    print (\"delete successfully\")\n",
    "    print (phonebook)\n",
    "else:\n",
    "    print (name,\"was not found\")"
   ]
  },
  {
   "cell_type": "code",
   "execution_count": 21,
   "id": "eb832269-a41f-4e9f-acc5-cfc78aaf0a20",
   "metadata": {},
   "outputs": [
    {
     "ename": "NameError",
     "evalue": "name 'phonebook' is not defined",
     "output_type": "error",
     "traceback": [
      "\u001b[1;31m---------------------------------------------------------------------------\u001b[0m",
      "\u001b[1;31mNameError\u001b[0m                                 Traceback (most recent call last)",
      "Cell \u001b[1;32mIn[21], line 3\u001b[0m\n\u001b[0;32m      1\u001b[0m phonebook\u001b[38;5;241m=\u001b[39m{\u001b[38;5;124m\"\u001b[39m\u001b[38;5;124mHarry\u001b[39m\u001b[38;5;124m\"\u001b[39m:\u001b[38;5;241m9764543678\u001b[39m,\u001b[38;5;124m\"\u001b[39m\u001b[38;5;124mSeema\u001b[39m\u001b[38;5;124m\"\u001b[39m:\u001b[38;5;241m8975231456\u001b[39m,\u001b[38;5;124m\"\u001b[39m\u001b[38;5;124mRia\u001b[39m\u001b[38;5;124m\"\u001b[39m:\u001b[38;5;241m7867523145\u001b[39m,\u001b[38;5;124m\"\u001b[39m\u001b[38;5;124mThomas\u001b[39m\u001b[38;5;124m\"\u001b[39m:\u001b[38;5;241m9825316377\u001b[39m}\n\u001b[0;32m      2\u001b[0m \u001b[38;5;28;01mdel\u001b[39;00m phonebook\n\u001b[1;32m----> 3\u001b[0m \u001b[38;5;28mprint\u001b[39m(phonebook)\n",
      "\u001b[1;31mNameError\u001b[0m: name 'phonebook' is not defined"
     ]
    }
   ],
   "source": [
    "# delete dict\n",
    "phonebook={\"Harry\":9764543678,\"Seema\":8975231456,\"Ria\":7867523145,\"Thomas\":9825316377}\n",
    "del phonebook\n",
    "print(phonebook)"
   ]
  },
  {
   "cell_type": "code",
   "execution_count": 41,
   "id": "13c06d37-ccff-46f4-9160-7b546d4588c5",
   "metadata": {},
   "outputs": [
    {
     "name": "stdout",
     "output_type": "stream",
     "text": [
      "<class 'dict'>\n",
      "{}\n",
      "dict_keys([])\n"
     ]
    }
   ],
   "source": [
    "# type\n",
    "phonebook={\"Harry\":9764543678,\"Seema\":8975231456,\"Ria\":7867523145,\"Thomas\":9825316377}\n",
    "print(type(phonebook))\n",
    "\n",
    "#clear\n",
    "phonebook.clear()\n",
    "print(phonebook)\n",
    "\n",
    "print(phonebook.keys())"
   ]
  },
  {
   "cell_type": "code",
   "execution_count": 35,
   "id": "ed4d44be-056c-4f4c-9ba6-f97e8dc8bc85",
   "metadata": {},
   "outputs": [
    {
     "name": "stdout",
     "output_type": "stream",
     "text": [
      "dict_keys([])\n"
     ]
    }
   ],
   "source": [
    "print(phonebook.keys())"
   ]
  },
  {
   "cell_type": "code",
   "execution_count": null,
   "id": "06724043-9e0c-4e1b-8ccb-929456e60a61",
   "metadata": {},
   "outputs": [],
   "source": []
  }
 ],
 "metadata": {
  "kernelspec": {
   "display_name": "Python [conda env:base] *",
   "language": "python",
   "name": "conda-base-py"
  },
  "language_info": {
   "codemirror_mode": {
    "name": "ipython",
    "version": 3
   },
   "file_extension": ".py",
   "mimetype": "text/x-python",
   "name": "python",
   "nbconvert_exporter": "python",
   "pygments_lexer": "ipython3",
   "version": "3.12.7"
  }
 },
 "nbformat": 4,
 "nbformat_minor": 5
}
