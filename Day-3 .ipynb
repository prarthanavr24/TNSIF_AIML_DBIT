{
 "cells": [
  {
   "cell_type": "code",
   "execution_count": 2,
   "id": "3735a7d0-d7bc-4c8e-bdc4-ef341f548588",
   "metadata": {},
   "outputs": [
    {
     "name": "stdout",
     "output_type": "stream",
     "text": [
      "Enter 10 numbers:\n"
     ]
    },
    {
     "name": "stdin",
     "output_type": "stream",
     "text": [
      "Enter number:  1\n",
      "Enter number:  2\n",
      "Enter number:  3\n",
      "Enter number:  4\n",
      "Enter number:  5\n",
      "Enter number:  6\n",
      "Enter number:  7\n",
      "Enter number:  8\n",
      "Enter number:  8\n",
      "Enter number:  9\n"
     ]
    },
    {
     "name": "stdout",
     "output_type": "stream",
     "text": [
      "the list after removing third element and all odd numbers: [2, 4, 6, 8, 8]\n"
     ]
    }
   ],
   "source": [
    "# Day 3 (1-8-25)\n",
    "# Accept a list with numbers having 10 elements. Remove the third element and all odd elements.\n",
    "\n",
    "elements = []\n",
    "print(\"Enter 10 numbers:\")\n",
    "for i in range(10):\n",
    "    num = int(input(\"Enter number: \"))\n",
    "    elements.append(num)\n",
    "if len(elements) >= 3:\n",
    "    elements.pop(2)\n",
    "\n",
    "new_list= []\n",
    "for num in elements:\n",
    "    if num % 2 == 0:\n",
    "        new_list.append(num)\n",
    "print(\"the list after removing third element and all odd numbers:\", new_list)"
   ]
  },
  {
   "cell_type": "code",
   "execution_count": null,
   "id": "6ded7923-fa76-482f-990d-5f5234f6b0c0",
   "metadata": {},
   "outputs": [],
   "source": []
  }
 ],
 "metadata": {
  "kernelspec": {
   "display_name": "Python [conda env:base] *",
   "language": "python",
   "name": "conda-base-py"
  },
  "language_info": {
   "codemirror_mode": {
    "name": "ipython",
    "version": 3
   },
   "file_extension": ".py",
   "mimetype": "text/x-python",
   "name": "python",
   "nbconvert_exporter": "python",
   "pygments_lexer": "ipython3",
   "version": "3.12.7"
  }
 },
 "nbformat": 4,
 "nbformat_minor": 5
}
