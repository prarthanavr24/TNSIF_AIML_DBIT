{
 "cells": [
  {
   "cell_type": "code",
   "execution_count": 3,
   "id": "734e214c-7005-4941-a964-c06aad50ba17",
   "metadata": {},
   "outputs": [
    {
     "name": "stdin",
     "output_type": "stream",
     "text": [
      " enter the password : 1452\n"
     ]
    },
    {
     "name": "stdout",
     "output_type": "stream",
     "text": [
      " invalid password try again... \n"
     ]
    }
   ],
   "source": [
    "#    Day -1 (30-7-25)\n",
    "#Build a simple ATM simulation. User must:\n",
    "#Enter correct PIN (e.g., 1234)\n",
    "#Can perform withdraw, deposit, or check balance\n",
    "#Only 3 attempts allowed for PIN                       \n",
    "\n",
    "amt = 10000\n",
    "password = 1234\n",
    "max_attempts = 3\n",
    "\n",
    "n = int(input(\" enter the password :\"))\n",
    "\n",
    "if n == password :\n",
    "    print (\" account balance :\",amt)\n",
    "else : \n",
    "    print (\" invalid password try again... \")"
   ]
  },
  {
   "cell_type": "code",
   "execution_count": null,
   "id": "9891ba1c-5528-4549-9d21-20a7bf9101f3",
   "metadata": {},
   "outputs": [],
   "source": []
  }
 ],
 "metadata": {
  "kernelspec": {
   "display_name": "Python [conda env:base] *",
   "language": "python",
   "name": "conda-base-py"
  },
  "language_info": {
   "codemirror_mode": {
    "name": "ipython",
    "version": 3
   },
   "file_extension": ".py",
   "mimetype": "text/x-python",
   "name": "python",
   "nbconvert_exporter": "python",
   "pygments_lexer": "ipython3",
   "version": "3.12.7"
  }
 },
 "nbformat": 4,
 "nbformat_minor": 5
}
